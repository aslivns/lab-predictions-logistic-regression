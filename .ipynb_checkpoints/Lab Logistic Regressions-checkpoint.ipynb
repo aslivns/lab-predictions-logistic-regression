{
 "cells": [
  {
   "cell_type": "code",
   "execution_count": 1,
   "id": "8505791e",
   "metadata": {},
   "outputs": [
    {
     "name": "stdout",
     "output_type": "stream",
     "text": [
      "········\n"
     ]
    }
   ],
   "source": [
    "# prep: import modules and get pwd\n",
    "import pymysql\n",
    "from sqlalchemy import create_engine\n",
    "import pandas as pd\n",
    "import getpass  # To get the password without showing the input\n",
    "password = getpass.getpass()"
   ]
  },
  {
   "cell_type": "code",
   "execution_count": 2,
   "id": "a2e42fff",
   "metadata": {},
   "outputs": [],
   "source": [
    "connection_string = 'mysql+pymysql://root:' + password + '@localhost/sakila' #tells mysql that i will use a sql database\n",
    "engine = create_engine(connection_string)"
   ]
  },
  {
   "cell_type": "markdown",
   "id": "050e44ca",
   "metadata": {},
   "source": [
    "### getting the data"
   ]
  },
  {
   "cell_type": "code",
   "execution_count": 3,
   "id": "bbaef0e1",
   "metadata": {},
   "outputs": [],
   "source": [
    "#### Create a query to get the list of films and a boolean indicating if it was rented last month (August 2005). This would be our target variable."
   ]
  },
  {
   "cell_type": "code",
   "execution_count": 4,
   "id": "37441ba2",
   "metadata": {
    "scrolled": true
   },
   "outputs": [
    {
     "data": {
      "text/plain": [
       "(1000, 14)"
      ]
     },
     "execution_count": 4,
     "metadata": {},
     "output_type": "execute_result"
    }
   ],
   "source": [
    "query2 = '''SELECT f.film_id, r.inventory_id, r.rental_id, r.rental_date,  f.title, f.language_id, f.rental_duration, f.rental_rate, f.length, f.replacement_cost, f.rating, f.special_features, c.name,\n",
    "SUM(CASE \n",
    "WHEN YEAR(rental_date) = 2005 AND MONTH(rental_date) = 5\n",
    "THEN 1\n",
    "ELSE 0\n",
    "END) AS day_type\n",
    "FROM rental r\n",
    "INNER JOIN inventory i USING (inventory_id)\n",
    "RIGHT JOIN film f USING (film_id)\n",
    "INNER JOIN film_category fc USING (film_id)\n",
    "INNER JOIN category c USING (category_id)\n",
    "GROUP BY f.title; '''\n",
    "\n",
    "data_all = pd.read_sql_query(query2, engine)\n",
    "data_all.shape\n",
    "# data_all.head()"
   ]
  },
  {
   "cell_type": "code",
   "execution_count": 5,
   "id": "e3ce1005",
   "metadata": {},
   "outputs": [],
   "source": [
    "data1 = pd.read_sql('SELECT language_id, name FROM language', engine)"
   ]
  },
  {
   "cell_type": "code",
   "execution_count": 6,
   "id": "6745ef1b",
   "metadata": {},
   "outputs": [
    {
     "data": {
      "text/html": [
       "<div>\n",
       "<style scoped>\n",
       "    .dataframe tbody tr th:only-of-type {\n",
       "        vertical-align: middle;\n",
       "    }\n",
       "\n",
       "    .dataframe tbody tr th {\n",
       "        vertical-align: top;\n",
       "    }\n",
       "\n",
       "    .dataframe thead th {\n",
       "        text-align: right;\n",
       "    }\n",
       "</style>\n",
       "<table border=\"1\" class=\"dataframe\">\n",
       "  <thead>\n",
       "    <tr style=\"text-align: right;\">\n",
       "      <th></th>\n",
       "      <th>film_id</th>\n",
       "      <th>inventory_id</th>\n",
       "      <th>rental_id</th>\n",
       "      <th>rental_date</th>\n",
       "      <th>title</th>\n",
       "      <th>language_id</th>\n",
       "      <th>rental_duration</th>\n",
       "      <th>rental_rate</th>\n",
       "      <th>length</th>\n",
       "      <th>replacement_cost</th>\n",
       "      <th>rating</th>\n",
       "      <th>special_features</th>\n",
       "      <th>name_x</th>\n",
       "      <th>day_type</th>\n",
       "      <th>name_y</th>\n",
       "    </tr>\n",
       "  </thead>\n",
       "  <tbody>\n",
       "    <tr>\n",
       "      <th>0</th>\n",
       "      <td>19</td>\n",
       "      <td>93.0</td>\n",
       "      <td>10895.0</td>\n",
       "      <td>2005-08-02 01:16:59</td>\n",
       "      <td>AMADEUS HOLY</td>\n",
       "      <td>1</td>\n",
       "      <td>6</td>\n",
       "      <td>0.99</td>\n",
       "      <td>113</td>\n",
       "      <td>20.99</td>\n",
       "      <td>PG</td>\n",
       "      <td>Commentaries,Deleted Scenes,Behind the Scenes</td>\n",
       "      <td>Action</td>\n",
       "      <td>1.0</td>\n",
       "      <td>English</td>\n",
       "    </tr>\n",
       "    <tr>\n",
       "      <th>1</th>\n",
       "      <td>21</td>\n",
       "      <td>102.0</td>\n",
       "      <td>207.0</td>\n",
       "      <td>2005-05-26 08:04:38</td>\n",
       "      <td>AMERICAN CIRCUS</td>\n",
       "      <td>1</td>\n",
       "      <td>3</td>\n",
       "      <td>4.99</td>\n",
       "      <td>129</td>\n",
       "      <td>17.99</td>\n",
       "      <td>R</td>\n",
       "      <td>Commentaries,Behind the Scenes</td>\n",
       "      <td>Action</td>\n",
       "      <td>2.0</td>\n",
       "      <td>English</td>\n",
       "    </tr>\n",
       "    <tr>\n",
       "      <th>2</th>\n",
       "      <td>29</td>\n",
       "      <td>142.0</td>\n",
       "      <td>1123.0</td>\n",
       "      <td>2005-05-31 16:48:43</td>\n",
       "      <td>ANTITRUST TOMATOES</td>\n",
       "      <td>1</td>\n",
       "      <td>5</td>\n",
       "      <td>2.99</td>\n",
       "      <td>168</td>\n",
       "      <td>11.99</td>\n",
       "      <td>NC-17</td>\n",
       "      <td>Trailers,Commentaries,Deleted Scenes</td>\n",
       "      <td>Action</td>\n",
       "      <td>2.0</td>\n",
       "      <td>English</td>\n",
       "    </tr>\n",
       "    <tr>\n",
       "      <th>3</th>\n",
       "      <td>38</td>\n",
       "      <td>NaN</td>\n",
       "      <td>NaN</td>\n",
       "      <td>NaT</td>\n",
       "      <td>ARK RIDGEMONT</td>\n",
       "      <td>1</td>\n",
       "      <td>6</td>\n",
       "      <td>0.99</td>\n",
       "      <td>68</td>\n",
       "      <td>25.99</td>\n",
       "      <td>NC-17</td>\n",
       "      <td>Trailers,Commentaries,Deleted Scenes,Behind th...</td>\n",
       "      <td>Action</td>\n",
       "      <td>0.0</td>\n",
       "      <td>English</td>\n",
       "    </tr>\n",
       "    <tr>\n",
       "      <th>4</th>\n",
       "      <td>56</td>\n",
       "      <td>248.0</td>\n",
       "      <td>3309.0</td>\n",
       "      <td>2005-06-21 08:00:49</td>\n",
       "      <td>BAREFOOT MANCHURIAN</td>\n",
       "      <td>1</td>\n",
       "      <td>6</td>\n",
       "      <td>2.99</td>\n",
       "      <td>129</td>\n",
       "      <td>15.99</td>\n",
       "      <td>G</td>\n",
       "      <td>Trailers,Commentaries</td>\n",
       "      <td>Action</td>\n",
       "      <td>1.0</td>\n",
       "      <td>English</td>\n",
       "    </tr>\n",
       "  </tbody>\n",
       "</table>\n",
       "</div>"
      ],
      "text/plain": [
       "   film_id  inventory_id  rental_id         rental_date                title  \\\n",
       "0       19          93.0    10895.0 2005-08-02 01:16:59         AMADEUS HOLY   \n",
       "1       21         102.0      207.0 2005-05-26 08:04:38      AMERICAN CIRCUS   \n",
       "2       29         142.0     1123.0 2005-05-31 16:48:43   ANTITRUST TOMATOES   \n",
       "3       38           NaN        NaN                 NaT        ARK RIDGEMONT   \n",
       "4       56         248.0     3309.0 2005-06-21 08:00:49  BAREFOOT MANCHURIAN   \n",
       "\n",
       "   language_id  rental_duration  rental_rate  length  replacement_cost rating  \\\n",
       "0            1                6         0.99     113             20.99     PG   \n",
       "1            1                3         4.99     129             17.99      R   \n",
       "2            1                5         2.99     168             11.99  NC-17   \n",
       "3            1                6         0.99      68             25.99  NC-17   \n",
       "4            1                6         2.99     129             15.99      G   \n",
       "\n",
       "                                    special_features  name_x  day_type  \\\n",
       "0      Commentaries,Deleted Scenes,Behind the Scenes  Action       1.0   \n",
       "1                     Commentaries,Behind the Scenes  Action       2.0   \n",
       "2               Trailers,Commentaries,Deleted Scenes  Action       2.0   \n",
       "3  Trailers,Commentaries,Deleted Scenes,Behind th...  Action       0.0   \n",
       "4                              Trailers,Commentaries  Action       1.0   \n",
       "\n",
       "    name_y  \n",
       "0  English  \n",
       "1  English  \n",
       "2  English  \n",
       "3  English  \n",
       "4  English  "
      ]
     },
     "execution_count": 6,
     "metadata": {},
     "output_type": "execute_result"
    }
   ],
   "source": [
    "data_all = pd.DataFrame.merge(data_all,data1,on= 'language_id')\n",
    "data_all.head()\n"
   ]
  },
  {
   "cell_type": "code",
   "execution_count": 7,
   "id": "1a8ee085",
   "metadata": {},
   "outputs": [
    {
     "data": {
      "text/plain": [
       "film_id              0\n",
       "inventory_id        42\n",
       "rental_id           42\n",
       "rental_date         42\n",
       "title                0\n",
       "language_id          0\n",
       "rental_duration      0\n",
       "rental_rate          0\n",
       "length               0\n",
       "replacement_cost     0\n",
       "rating               0\n",
       "special_features     0\n",
       "name_x               0\n",
       "day_type             0\n",
       "name_y               0\n",
       "dtype: int64"
      ]
     },
     "execution_count": 7,
     "metadata": {},
     "output_type": "execute_result"
    }
   ],
   "source": [
    "data_all.isna().sum()   # 42 movies are never rented"
   ]
  },
  {
   "cell_type": "code",
   "execution_count": 8,
   "id": "08e63ec9",
   "metadata": {},
   "outputs": [
    {
     "data": {
      "text/plain": [
       "1.0    355\n",
       "0.0    314\n",
       "2.0    225\n",
       "3.0     76\n",
       "4.0     27\n",
       "5.0      3\n",
       "Name: day_type, dtype: int64"
      ]
     },
     "execution_count": 8,
     "metadata": {},
     "output_type": "execute_result"
    }
   ],
   "source": [
    "data_all['day_type'].value_counts()"
   ]
  },
  {
   "cell_type": "code",
   "execution_count": 9,
   "id": "56030015",
   "metadata": {},
   "outputs": [
    {
     "data": {
      "text/plain": [
       "0    1\n",
       "1    1\n",
       "2    1\n",
       "3    0\n",
       "4    1\n",
       "Name: day_type, dtype: int64"
      ]
     },
     "execution_count": 9,
     "metadata": {},
     "output_type": "execute_result"
    }
   ],
   "source": [
    "data_all['day_type'] = data_all['day_type'].apply(lambda x: 1 if x > 0 else 0)\n",
    "data_all['day_type'].head()"
   ]
  },
  {
   "cell_type": "code",
   "execution_count": 10,
   "id": "1b85ac5f",
   "metadata": {
    "scrolled": true
   },
   "outputs": [],
   "source": [
    "data_all=data_all.drop(columns=['film_id', 'inventory_id', 'rental_id', 'language_id', 'rental_date'], axis=1)"
   ]
  },
  {
   "cell_type": "code",
   "execution_count": 11,
   "id": "023e77d0",
   "metadata": {},
   "outputs": [],
   "source": [
    "data_all['rental_duration'] = data_all['rental_duration'].astype('object')\n",
    "data_all['rental_rate'] = data_all['rental_rate'].astype('object') # This will be treated as categorical"
   ]
  },
  {
   "cell_type": "code",
   "execution_count": 12,
   "id": "e987f12e",
   "metadata": {},
   "outputs": [
    {
     "data": {
      "text/plain": [
       "Trailers,Commentaries,Behind the Scenes                   79\n",
       "Trailers,Commentaries                                     72\n",
       "Trailers                                                  72\n",
       "Trailers,Behind the Scenes                                72\n",
       "Deleted Scenes,Behind the Scenes                          71\n",
       "Commentaries,Behind the Scenes                            70\n",
       "Behind the Scenes                                         70\n",
       "Commentaries,Deleted Scenes,Behind the Scenes             66\n",
       "Trailers,Deleted Scenes                                   66\n",
       "Commentaries,Deleted Scenes                               65\n",
       "Trailers,Commentaries,Deleted Scenes                      64\n",
       "Commentaries                                              62\n",
       "Trailers,Commentaries,Deleted Scenes,Behind the Scenes    61\n",
       "Deleted Scenes                                            61\n",
       "Trailers,Deleted Scenes,Behind the Scenes                 49\n",
       "Name: special_features, dtype: int64"
      ]
     },
     "execution_count": 12,
     "metadata": {},
     "output_type": "execute_result"
    }
   ],
   "source": [
    "data_all['special_features'].value_counts(dropna=False)"
   ]
  },
  {
   "cell_type": "code",
   "execution_count": 13,
   "id": "28e287c8",
   "metadata": {},
   "outputs": [],
   "source": [
    "data_all.columns = ['title', 'rental_duration', 'rental_rate', 'length','replacement_cost', 'rating', 'special_features','category', 'target_col', 'language']"
   ]
  },
  {
   "cell_type": "code",
   "execution_count": 14,
   "id": "e07d64b5",
   "metadata": {},
   "outputs": [
    {
     "data": {
      "image/png": "[encoded data removed]",
      "text/plain": [
       "<Figure size 432x288 with 2 Axes>"
      ]
     },
     "metadata": {
      "needs_background": "light"
     },
     "output_type": "display_data"
    }
   ],
   "source": [
    "import matplotlib.pyplot as plt\n",
    "import seaborn as sns \n",
    "correlations_matrix = data_all.corr()   \n",
    "correlations_matrix\n",
    "\n",
    "#heatmap\n",
    "sns.heatmap(correlations_matrix, annot=True)\n",
    "plt.show()\n",
    "# there is no multicollinearity"
   ]
  },
  {
   "cell_type": "code",
   "execution_count": 15,
   "id": "81a13101",
   "metadata": {},
   "outputs": [
    {
     "data": {
      "image/png": "[encoded data removed]",
      "text/plain": [
       "<Figure size 360x360 with 1 Axes>"
      ]
     },
     "metadata": {
      "needs_background": "light"
     },
     "output_type": "display_data"
    },
    {
     "data": {
      "image/png": "[encoded data removed]",
      "text/plain": [
       "<Figure size 360x360 with 1 Axes>"
      ]
     },
     "metadata": {
      "needs_background": "light"
     },
     "output_type": "display_data"
    },
    {
     "data": {
      "image/png": "[encoded data removed]",
      "text/plain": [
       "<Figure size 360x360 with 1 Axes>"
      ]
     },
     "metadata": {
      "needs_background": "light"
     },
     "output_type": "display_data"
    }
   ],
   "source": [
    "# look at the scale and distribution of values\n",
    "sns.displot(data_all['rental_rate'])\n",
    "plt.show()\n",
    "\n",
    "sns.displot(data_all['length'])\n",
    "plt.show()\n",
    "\n",
    "sns.displot(data_all['replacement_cost'])\n",
    "plt.show()\n"
   ]
  },
  {
   "cell_type": "code",
   "execution_count": 16,
   "id": "d9abca01",
   "metadata": {},
   "outputs": [],
   "source": [
    "data_all = data_all.drop(['title'], axis = 1)\n",
    "# data_all = data_all.drop(['replacement_cost', 'length', 'special_features'], axis = 1 )"
   ]
  },
  {
   "cell_type": "markdown",
   "id": "31d3788c",
   "metadata": {},
   "source": [
    "### X-y split"
   ]
  },
  {
   "cell_type": "code",
   "execution_count": 17,
   "id": "62736cda",
   "metadata": {},
   "outputs": [],
   "source": [
    "# Build X and y\n",
    "y = data_all['target_col']\n",
    "X = data_all.drop(['target_col'], axis=1)"
   ]
  },
  {
   "cell_type": "code",
   "execution_count": 18,
   "id": "839121a0",
   "metadata": {},
   "outputs": [
    {
     "data": {
      "text/plain": [
       "rental_duration      object\n",
       "rental_rate          object\n",
       "length                int64\n",
       "replacement_cost    float64\n",
       "rating               object\n",
       "special_features     object\n",
       "category             object\n",
       "language             object\n",
       "dtype: object"
      ]
     },
     "execution_count": 18,
     "metadata": {},
     "output_type": "execute_result"
    }
   ],
   "source": [
    "X.dtypes"
   ]
  },
  {
   "cell_type": "code",
   "execution_count": 19,
   "id": "7c911993",
   "metadata": {},
   "outputs": [],
   "source": [
    "#Train/Test split\n",
    "from sklearn.model_selection import train_test_split\n",
    "X_train, X_test, y_train, y_test = train_test_split(X, y, test_size=0.2, random_state=0)"
   ]
  },
  {
   "cell_type": "code",
   "execution_count": 20,
   "id": "9393e752",
   "metadata": {},
   "outputs": [],
   "source": [
    "import numpy as np\n",
    "from sklearn.preprocessing import MinMaxScaler\n",
    "# from sklearn.preprocessing import StandardScaler\n",
    "\n",
    "X_train_num = X_train.select_dtypes(include = np.number)\n",
    "\n",
    "# Scaling data\n",
    "transformer = MinMaxScaler().fit(X_train_num) # need to keep transformer\n",
    "X_train_normalized = transformer.transform(X_train_num)\n",
    "X_train_norm = pd.DataFrame(X_train_normalized, columns=X_train_num.columns )"
   ]
  },
  {
   "cell_type": "code",
   "execution_count": 21,
   "id": "5e1f2551",
   "metadata": {},
   "outputs": [
    {
     "data": {
      "text/html": [
       "<div>\n",
       "<style scoped>\n",
       "    .dataframe tbody tr th:only-of-type {\n",
       "        vertical-align: middle;\n",
       "    }\n",
       "\n",
       "    .dataframe tbody tr th {\n",
       "        vertical-align: top;\n",
       "    }\n",
       "\n",
       "    .dataframe thead th {\n",
       "        text-align: right;\n",
       "    }\n",
       "</style>\n",
       "<table border=\"1\" class=\"dataframe\">\n",
       "  <thead>\n",
       "    <tr style=\"text-align: right;\">\n",
       "      <th></th>\n",
       "      <th>length</th>\n",
       "      <th>replacement_cost</th>\n",
       "    </tr>\n",
       "  </thead>\n",
       "  <tbody>\n",
       "    <tr>\n",
       "      <th>0</th>\n",
       "      <td>0.179856</td>\n",
       "      <td>0.85</td>\n",
       "    </tr>\n",
       "    <tr>\n",
       "      <th>1</th>\n",
       "      <td>0.014388</td>\n",
       "      <td>0.95</td>\n",
       "    </tr>\n",
       "    <tr>\n",
       "      <th>2</th>\n",
       "      <td>0.568345</td>\n",
       "      <td>0.60</td>\n",
       "    </tr>\n",
       "    <tr>\n",
       "      <th>3</th>\n",
       "      <td>0.517986</td>\n",
       "      <td>0.45</td>\n",
       "    </tr>\n",
       "    <tr>\n",
       "      <th>4</th>\n",
       "      <td>0.489209</td>\n",
       "      <td>0.80</td>\n",
       "    </tr>\n",
       "  </tbody>\n",
       "</table>\n",
       "</div>"
      ],
      "text/plain": [
       "     length  replacement_cost\n",
       "0  0.179856              0.85\n",
       "1  0.014388              0.95\n",
       "2  0.568345              0.60\n",
       "3  0.517986              0.45\n",
       "4  0.489209              0.80"
      ]
     },
     "execution_count": 21,
     "metadata": {},
     "output_type": "execute_result"
    }
   ],
   "source": [
    "X_train_norm.columns = X_train_num.columns\n",
    "X_train_norm.head(5)"
   ]
  },
  {
   "cell_type": "code",
   "execution_count": 22,
   "id": "933c11ef",
   "metadata": {},
   "outputs": [
    {
     "name": "stderr",
     "output_type": "stream",
     "text": [
      "C:\\Users\\aslis\\AppData\\Local\\Temp\\ipykernel_43988\\1994449590.py:1: DeprecationWarning: `np.object` is a deprecated alias for the builtin `object`. To silence this warning, use `object` by itself. Doing this will not modify any behavior and is safe. \n",
      "Deprecated in NumPy 1.20; for more details and guidance: https://numpy.org/devdocs/release/1.20.0-notes.html#deprecations\n",
      "  X_train_cat = X_train.select_dtypes(include = np.object)\n"
     ]
    }
   ],
   "source": [
    "X_train_cat = X_train.select_dtypes(include = np.object)"
   ]
  },
  {
   "cell_type": "code",
   "execution_count": 23,
   "id": "a3f76d98",
   "metadata": {},
   "outputs": [
    {
     "data": {
      "text/html": [
       "<div>\n",
       "<style scoped>\n",
       "    .dataframe tbody tr th:only-of-type {\n",
       "        vertical-align: middle;\n",
       "    }\n",
       "\n",
       "    .dataframe tbody tr th {\n",
       "        vertical-align: top;\n",
       "    }\n",
       "\n",
       "    .dataframe thead th {\n",
       "        text-align: right;\n",
       "    }\n",
       "</style>\n",
       "<table border=\"1\" class=\"dataframe\">\n",
       "  <thead>\n",
       "    <tr style=\"text-align: right;\">\n",
       "      <th></th>\n",
       "      <th>rental_duration_3</th>\n",
       "      <th>rental_duration_4</th>\n",
       "      <th>rental_duration_5</th>\n",
       "      <th>rental_duration_6</th>\n",
       "      <th>rental_duration_7</th>\n",
       "      <th>rental_rate_0.99</th>\n",
       "      <th>rental_rate_2.99</th>\n",
       "      <th>rental_rate_4.99</th>\n",
       "      <th>rating_G</th>\n",
       "      <th>rating_NC-17</th>\n",
       "      <th>...</th>\n",
       "      <th>category_Family</th>\n",
       "      <th>category_Foreign</th>\n",
       "      <th>category_Games</th>\n",
       "      <th>category_Horror</th>\n",
       "      <th>category_Music</th>\n",
       "      <th>category_New</th>\n",
       "      <th>category_Sci-Fi</th>\n",
       "      <th>category_Sports</th>\n",
       "      <th>category_Travel</th>\n",
       "      <th>language_English</th>\n",
       "    </tr>\n",
       "  </thead>\n",
       "  <tbody>\n",
       "    <tr>\n",
       "      <th>0</th>\n",
       "      <td>1.0</td>\n",
       "      <td>0.0</td>\n",
       "      <td>0.0</td>\n",
       "      <td>0.0</td>\n",
       "      <td>0.0</td>\n",
       "      <td>0.0</td>\n",
       "      <td>0.0</td>\n",
       "      <td>1.0</td>\n",
       "      <td>0.0</td>\n",
       "      <td>0.0</td>\n",
       "      <td>...</td>\n",
       "      <td>0.0</td>\n",
       "      <td>0.0</td>\n",
       "      <td>0.0</td>\n",
       "      <td>1.0</td>\n",
       "      <td>0.0</td>\n",
       "      <td>0.0</td>\n",
       "      <td>0.0</td>\n",
       "      <td>0.0</td>\n",
       "      <td>0.0</td>\n",
       "      <td>1.0</td>\n",
       "    </tr>\n",
       "    <tr>\n",
       "      <th>1</th>\n",
       "      <td>0.0</td>\n",
       "      <td>0.0</td>\n",
       "      <td>0.0</td>\n",
       "      <td>1.0</td>\n",
       "      <td>0.0</td>\n",
       "      <td>1.0</td>\n",
       "      <td>0.0</td>\n",
       "      <td>0.0</td>\n",
       "      <td>0.0</td>\n",
       "      <td>1.0</td>\n",
       "      <td>...</td>\n",
       "      <td>1.0</td>\n",
       "      <td>0.0</td>\n",
       "      <td>0.0</td>\n",
       "      <td>0.0</td>\n",
       "      <td>0.0</td>\n",
       "      <td>0.0</td>\n",
       "      <td>0.0</td>\n",
       "      <td>0.0</td>\n",
       "      <td>0.0</td>\n",
       "      <td>1.0</td>\n",
       "    </tr>\n",
       "    <tr>\n",
       "      <th>2</th>\n",
       "      <td>0.0</td>\n",
       "      <td>0.0</td>\n",
       "      <td>1.0</td>\n",
       "      <td>0.0</td>\n",
       "      <td>0.0</td>\n",
       "      <td>0.0</td>\n",
       "      <td>1.0</td>\n",
       "      <td>0.0</td>\n",
       "      <td>0.0</td>\n",
       "      <td>0.0</td>\n",
       "      <td>...</td>\n",
       "      <td>0.0</td>\n",
       "      <td>0.0</td>\n",
       "      <td>0.0</td>\n",
       "      <td>0.0</td>\n",
       "      <td>0.0</td>\n",
       "      <td>0.0</td>\n",
       "      <td>0.0</td>\n",
       "      <td>0.0</td>\n",
       "      <td>0.0</td>\n",
       "      <td>1.0</td>\n",
       "    </tr>\n",
       "    <tr>\n",
       "      <th>3</th>\n",
       "      <td>0.0</td>\n",
       "      <td>0.0</td>\n",
       "      <td>0.0</td>\n",
       "      <td>0.0</td>\n",
       "      <td>1.0</td>\n",
       "      <td>0.0</td>\n",
       "      <td>1.0</td>\n",
       "      <td>0.0</td>\n",
       "      <td>0.0</td>\n",
       "      <td>0.0</td>\n",
       "      <td>...</td>\n",
       "      <td>0.0</td>\n",
       "      <td>0.0</td>\n",
       "      <td>0.0</td>\n",
       "      <td>0.0</td>\n",
       "      <td>0.0</td>\n",
       "      <td>0.0</td>\n",
       "      <td>0.0</td>\n",
       "      <td>0.0</td>\n",
       "      <td>1.0</td>\n",
       "      <td>1.0</td>\n",
       "    </tr>\n",
       "    <tr>\n",
       "      <th>4</th>\n",
       "      <td>0.0</td>\n",
       "      <td>0.0</td>\n",
       "      <td>0.0</td>\n",
       "      <td>1.0</td>\n",
       "      <td>0.0</td>\n",
       "      <td>1.0</td>\n",
       "      <td>0.0</td>\n",
       "      <td>0.0</td>\n",
       "      <td>0.0</td>\n",
       "      <td>0.0</td>\n",
       "      <td>...</td>\n",
       "      <td>0.0</td>\n",
       "      <td>0.0</td>\n",
       "      <td>0.0</td>\n",
       "      <td>0.0</td>\n",
       "      <td>0.0</td>\n",
       "      <td>0.0</td>\n",
       "      <td>1.0</td>\n",
       "      <td>0.0</td>\n",
       "      <td>0.0</td>\n",
       "      <td>1.0</td>\n",
       "    </tr>\n",
       "  </tbody>\n",
       "</table>\n",
       "<p>5 rows × 45 columns</p>\n",
       "</div>"
      ],
      "text/plain": [
       "   rental_duration_3  rental_duration_4  rental_duration_5  rental_duration_6  \\\n",
       "0                1.0                0.0                0.0                0.0   \n",
       "1                0.0                0.0                0.0                1.0   \n",
       "2                0.0                0.0                1.0                0.0   \n",
       "3                0.0                0.0                0.0                0.0   \n",
       "4                0.0                0.0                0.0                1.0   \n",
       "\n",
       "   rental_duration_7  rental_rate_0.99  rental_rate_2.99  rental_rate_4.99  \\\n",
       "0                0.0               0.0               0.0               1.0   \n",
       "1                0.0               1.0               0.0               0.0   \n",
       "2                0.0               0.0               1.0               0.0   \n",
       "3                1.0               0.0               1.0               0.0   \n",
       "4                0.0               1.0               0.0               0.0   \n",
       "\n",
       "   rating_G  rating_NC-17  ...  category_Family  category_Foreign  \\\n",
       "0       0.0           0.0  ...              0.0               0.0   \n",
       "1       0.0           1.0  ...              1.0               0.0   \n",
       "2       0.0           0.0  ...              0.0               0.0   \n",
       "3       0.0           0.0  ...              0.0               0.0   \n",
       "4       0.0           0.0  ...              0.0               0.0   \n",
       "\n",
       "   category_Games  category_Horror  category_Music  category_New  \\\n",
       "0             0.0              1.0             0.0           0.0   \n",
       "1             0.0              0.0             0.0           0.0   \n",
       "2             0.0              0.0             0.0           0.0   \n",
       "3             0.0              0.0             0.0           0.0   \n",
       "4             0.0              0.0             0.0           0.0   \n",
       "\n",
       "   category_Sci-Fi  category_Sports  category_Travel  language_English  \n",
       "0              0.0              0.0              0.0               1.0  \n",
       "1              0.0              0.0              0.0               1.0  \n",
       "2              0.0              0.0              0.0               1.0  \n",
       "3              0.0              0.0              1.0               1.0  \n",
       "4              1.0              0.0              0.0               1.0  \n",
       "\n",
       "[5 rows x 45 columns]"
      ]
     },
     "execution_count": 23,
     "metadata": {},
     "output_type": "execute_result"
    }
   ],
   "source": [
    "#one hot encoding\n",
    "from sklearn.preprocessing import OneHotEncoder\n",
    "\n",
    "encoder = OneHotEncoder().fit(X_train_cat)\n",
    "cols = encoder.get_feature_names_out(input_features=X_train_cat.columns)\n",
    "X_train_encoded = pd.DataFrame(encoder.transform(X_train_cat).toarray(),columns=cols)\n",
    "X_train_encoded.head()"
   ]
  },
  {
   "cell_type": "code",
   "execution_count": 24,
   "id": "fc214c13",
   "metadata": {},
   "outputs": [],
   "source": [
    "X_train_transformed = pd.concat([X_train_norm, X_train_encoded], axis=1)"
   ]
  },
  {
   "cell_type": "markdown",
   "id": "22292582",
   "metadata": {},
   "source": [
    "#### Create Logistic Regression Model"
   ]
  },
  {
   "cell_type": "code",
   "execution_count": 25,
   "id": "517def1b",
   "metadata": {},
   "outputs": [
    {
     "data": {
      "text/html": [
       "<style>#sk-container-id-1 {color: black;background-color: white;}#sk-container-id-1 pre{padding: 0;}#sk-container-id-1 div.sk-toggleable {background-color: white;}#sk-container-id-1 label.sk-toggleable__label {cursor: pointer;display: block;width: 100%;margin-bottom: 0;padding: 0.3em;box-sizing: border-box;text-align: center;}#sk-container-id-1 label.sk-toggleable__label-arrow:before {content: \"▸\";float: left;margin-right: 0.25em;color: #696969;}#sk-container-id-1 label.sk-toggleable__label-arrow:hover:before {color: black;}#sk-container-id-1 div.sk-estimator:hover label.sk-toggleable__label-arrow:before {color: black;}#sk-container-id-1 div.sk-toggleable__content {max-height: 0;max-width: 0;overflow: hidden;text-align: left;background-color: #f0f8ff;}#sk-container-id-1 div.sk-toggleable__content pre {margin: 0.2em;color: black;border-radius: 0.25em;background-color: #f0f8ff;}#sk-container-id-1 input.sk-toggleable__control:checked~div.sk-toggleable__content {max-height: 200px;max-width: 100%;overflow: auto;}#sk-container-id-1 input.sk-toggleable__control:checked~label.sk-toggleable__label-arrow:before {content: \"▾\";}#sk-container-id-1 div.sk-estimator input.sk-toggleable__control:checked~label.sk-toggleable__label {background-color: #d4ebff;}#sk-container-id-1 div.sk-label input.sk-toggleable__control:checked~label.sk-toggleable__label {background-color: #d4ebff;}#sk-container-id-1 input.sk-hidden--visually {border: 0;clip: rect(1px 1px 1px 1px);clip: rect(1px, 1px, 1px, 1px);height: 1px;margin: -1px;overflow: hidden;padding: 0;position: absolute;width: 1px;}#sk-container-id-1 div.sk-estimator {font-family: monospace;background-color: #f0f8ff;border: 1px dotted black;border-radius: 0.25em;box-sizing: border-box;margin-bottom: 0.5em;}#sk-container-id-1 div.sk-estimator:hover {background-color: #d4ebff;}#sk-container-id-1 div.sk-parallel-item::after {content: \"\";width: 100%;border-bottom: 1px solid gray;flex-grow: 1;}#sk-container-id-1 div.sk-label:hover label.sk-toggleable__label {background-color: #d4ebff;}#sk-container-id-1 div.sk-serial::before {content: \"\";position: absolute;border-left: 1px solid gray;box-sizing: border-box;top: 0;bottom: 0;left: 50%;z-index: 0;}#sk-container-id-1 div.sk-serial {display: flex;flex-direction: column;align-items: center;background-color: white;padding-right: 0.2em;padding-left: 0.2em;position: relative;}#sk-container-id-1 div.sk-item {position: relative;z-index: 1;}#sk-container-id-1 div.sk-parallel {display: flex;align-items: stretch;justify-content: center;background-color: white;position: relative;}#sk-container-id-1 div.sk-item::before, #sk-container-id-1 div.sk-parallel-item::before {content: \"\";position: absolute;border-left: 1px solid gray;box-sizing: border-box;top: 0;bottom: 0;left: 50%;z-index: -1;}#sk-container-id-1 div.sk-parallel-item {display: flex;flex-direction: column;z-index: 1;position: relative;background-color: white;}#sk-container-id-1 div.sk-parallel-item:first-child::after {align-self: flex-end;width: 50%;}#sk-container-id-1 div.sk-parallel-item:last-child::after {align-self: flex-start;width: 50%;}#sk-container-id-1 div.sk-parallel-item:only-child::after {width: 0;}#sk-container-id-1 div.sk-dashed-wrapped {border: 1px dashed gray;margin: 0 0.4em 0.5em 0.4em;box-sizing: border-box;padding-bottom: 0.4em;background-color: white;}#sk-container-id-1 div.sk-label label {font-family: monospace;font-weight: bold;display: inline-block;line-height: 1.2em;}#sk-container-id-1 div.sk-label-container {text-align: center;}#sk-container-id-1 div.sk-container {/* jupyter's `normalize.less` sets `[hidden] { display: none; }` but bootstrap.min.css set `[hidden] { display: none !important; }` so we also need the `!important` here to be able to override the default hidden behavior on the sphinx rendered scikit-learn.org. See: https://github.com/scikit-learn/scikit-learn/issues/21755 */display: inline-block !important;position: relative;}#sk-container-id-1 div.sk-text-repr-fallback {display: none;}</style><div id=\"sk-container-id-1\" class=\"sk-top-container\"><div class=\"sk-text-repr-fallback\"><pre>LogisticRegression(random_state=0)</pre><b>In a Jupyter environment, please rerun this cell to show the HTML representation or trust the notebook. <br />On GitHub, the HTML representation is unable to render, please try loading this page with nbviewer.org.</b></div><div class=\"sk-container\" hidden><div class=\"sk-item\"><div class=\"sk-estimator sk-toggleable\"><input class=\"sk-toggleable__control sk-hidden--visually\" id=\"sk-estimator-id-1\" type=\"checkbox\" checked><label for=\"sk-estimator-id-1\" class=\"sk-toggleable__label sk-toggleable__label-arrow\">LogisticRegression</label><div class=\"sk-toggleable__content\"><pre>LogisticRegression(random_state=0)</pre></div></div></div></div></div>"
      ],
      "text/plain": [
       "LogisticRegression(random_state=0)"
      ]
     },
     "execution_count": 25,
     "metadata": {},
     "output_type": "execute_result"
    }
   ],
   "source": [
    "from sklearn.linear_model import LogisticRegression\n",
    "LogReg = LogisticRegression(random_state=0, solver='lbfgs')\n",
    "LogReg.fit(X_train_transformed, y_train)"
   ]
  },
  {
   "cell_type": "code",
   "execution_count": 27,
   "id": "a143e49a",
   "metadata": {},
   "outputs": [],
   "source": [
    "# Now minmax scale numerical test set\n",
    "# for numericals\n",
    "X_test_num = X_test.select_dtypes(include = np.number)\n",
    "# we use the transformer that was trained on the training data\n",
    "X_test_normalized = transformer.transform(X_test_num)\n",
    "X_test_norm = pd.DataFrame(X_test_normalized,columns=X_test_num.columns )"
   ]
  },
  {
   "cell_type": "code",
   "execution_count": 28,
   "id": "5c1ba7dd",
   "metadata": {},
   "outputs": [
    {
     "data": {
      "text/html": [
       "<div>\n",
       "<style scoped>\n",
       "    .dataframe tbody tr th:only-of-type {\n",
       "        vertical-align: middle;\n",
       "    }\n",
       "\n",
       "    .dataframe tbody tr th {\n",
       "        vertical-align: top;\n",
       "    }\n",
       "\n",
       "    .dataframe thead th {\n",
       "        text-align: right;\n",
       "    }\n",
       "</style>\n",
       "<table border=\"1\" class=\"dataframe\">\n",
       "  <thead>\n",
       "    <tr style=\"text-align: right;\">\n",
       "      <th></th>\n",
       "      <th>rental_duration_3</th>\n",
       "      <th>rental_duration_4</th>\n",
       "      <th>rental_duration_5</th>\n",
       "      <th>rental_duration_6</th>\n",
       "      <th>rental_duration_7</th>\n",
       "      <th>rental_rate_0.99</th>\n",
       "      <th>rental_rate_2.99</th>\n",
       "      <th>rental_rate_4.99</th>\n",
       "      <th>rating_G</th>\n",
       "      <th>rating_NC-17</th>\n",
       "      <th>...</th>\n",
       "      <th>category_Family</th>\n",
       "      <th>category_Foreign</th>\n",
       "      <th>category_Games</th>\n",
       "      <th>category_Horror</th>\n",
       "      <th>category_Music</th>\n",
       "      <th>category_New</th>\n",
       "      <th>category_Sci-Fi</th>\n",
       "      <th>category_Sports</th>\n",
       "      <th>category_Travel</th>\n",
       "      <th>language_English</th>\n",
       "    </tr>\n",
       "  </thead>\n",
       "  <tbody>\n",
       "    <tr>\n",
       "      <th>0</th>\n",
       "      <td>0.0</td>\n",
       "      <td>0.0</td>\n",
       "      <td>1.0</td>\n",
       "      <td>0.0</td>\n",
       "      <td>0.0</td>\n",
       "      <td>0.0</td>\n",
       "      <td>0.0</td>\n",
       "      <td>1.0</td>\n",
       "      <td>1.0</td>\n",
       "      <td>0.0</td>\n",
       "      <td>...</td>\n",
       "      <td>0.0</td>\n",
       "      <td>0.0</td>\n",
       "      <td>0.0</td>\n",
       "      <td>0.0</td>\n",
       "      <td>0.0</td>\n",
       "      <td>0.0</td>\n",
       "      <td>0.0</td>\n",
       "      <td>0.0</td>\n",
       "      <td>1.0</td>\n",
       "      <td>1.0</td>\n",
       "    </tr>\n",
       "    <tr>\n",
       "      <th>1</th>\n",
       "      <td>0.0</td>\n",
       "      <td>0.0</td>\n",
       "      <td>1.0</td>\n",
       "      <td>0.0</td>\n",
       "      <td>0.0</td>\n",
       "      <td>1.0</td>\n",
       "      <td>0.0</td>\n",
       "      <td>0.0</td>\n",
       "      <td>0.0</td>\n",
       "      <td>0.0</td>\n",
       "      <td>...</td>\n",
       "      <td>0.0</td>\n",
       "      <td>0.0</td>\n",
       "      <td>0.0</td>\n",
       "      <td>0.0</td>\n",
       "      <td>0.0</td>\n",
       "      <td>0.0</td>\n",
       "      <td>1.0</td>\n",
       "      <td>0.0</td>\n",
       "      <td>0.0</td>\n",
       "      <td>1.0</td>\n",
       "    </tr>\n",
       "    <tr>\n",
       "      <th>2</th>\n",
       "      <td>0.0</td>\n",
       "      <td>0.0</td>\n",
       "      <td>0.0</td>\n",
       "      <td>0.0</td>\n",
       "      <td>1.0</td>\n",
       "      <td>0.0</td>\n",
       "      <td>0.0</td>\n",
       "      <td>1.0</td>\n",
       "      <td>0.0</td>\n",
       "      <td>0.0</td>\n",
       "      <td>...</td>\n",
       "      <td>0.0</td>\n",
       "      <td>0.0</td>\n",
       "      <td>0.0</td>\n",
       "      <td>0.0</td>\n",
       "      <td>0.0</td>\n",
       "      <td>0.0</td>\n",
       "      <td>0.0</td>\n",
       "      <td>0.0</td>\n",
       "      <td>0.0</td>\n",
       "      <td>1.0</td>\n",
       "    </tr>\n",
       "    <tr>\n",
       "      <th>3</th>\n",
       "      <td>0.0</td>\n",
       "      <td>1.0</td>\n",
       "      <td>0.0</td>\n",
       "      <td>0.0</td>\n",
       "      <td>0.0</td>\n",
       "      <td>1.0</td>\n",
       "      <td>0.0</td>\n",
       "      <td>0.0</td>\n",
       "      <td>0.0</td>\n",
       "      <td>0.0</td>\n",
       "      <td>...</td>\n",
       "      <td>0.0</td>\n",
       "      <td>1.0</td>\n",
       "      <td>0.0</td>\n",
       "      <td>0.0</td>\n",
       "      <td>0.0</td>\n",
       "      <td>0.0</td>\n",
       "      <td>0.0</td>\n",
       "      <td>0.0</td>\n",
       "      <td>0.0</td>\n",
       "      <td>1.0</td>\n",
       "    </tr>\n",
       "    <tr>\n",
       "      <th>4</th>\n",
       "      <td>0.0</td>\n",
       "      <td>0.0</td>\n",
       "      <td>0.0</td>\n",
       "      <td>1.0</td>\n",
       "      <td>0.0</td>\n",
       "      <td>0.0</td>\n",
       "      <td>1.0</td>\n",
       "      <td>0.0</td>\n",
       "      <td>0.0</td>\n",
       "      <td>0.0</td>\n",
       "      <td>...</td>\n",
       "      <td>0.0</td>\n",
       "      <td>0.0</td>\n",
       "      <td>0.0</td>\n",
       "      <td>1.0</td>\n",
       "      <td>0.0</td>\n",
       "      <td>0.0</td>\n",
       "      <td>0.0</td>\n",
       "      <td>0.0</td>\n",
       "      <td>0.0</td>\n",
       "      <td>1.0</td>\n",
       "    </tr>\n",
       "  </tbody>\n",
       "</table>\n",
       "<p>5 rows × 45 columns</p>\n",
       "</div>"
      ],
      "text/plain": [
       "   rental_duration_3  rental_duration_4  rental_duration_5  rental_duration_6  \\\n",
       "0                0.0                0.0                1.0                0.0   \n",
       "1                0.0                0.0                1.0                0.0   \n",
       "2                0.0                0.0                0.0                0.0   \n",
       "3                0.0                1.0                0.0                0.0   \n",
       "4                0.0                0.0                0.0                1.0   \n",
       "\n",
       "   rental_duration_7  rental_rate_0.99  rental_rate_2.99  rental_rate_4.99  \\\n",
       "0                0.0               0.0               0.0               1.0   \n",
       "1                0.0               1.0               0.0               0.0   \n",
       "2                1.0               0.0               0.0               1.0   \n",
       "3                0.0               1.0               0.0               0.0   \n",
       "4                0.0               0.0               1.0               0.0   \n",
       "\n",
       "   rating_G  rating_NC-17  ...  category_Family  category_Foreign  \\\n",
       "0       1.0           0.0  ...              0.0               0.0   \n",
       "1       0.0           0.0  ...              0.0               0.0   \n",
       "2       0.0           0.0  ...              0.0               0.0   \n",
       "3       0.0           0.0  ...              0.0               1.0   \n",
       "4       0.0           0.0  ...              0.0               0.0   \n",
       "\n",
       "   category_Games  category_Horror  category_Music  category_New  \\\n",
       "0             0.0              0.0             0.0           0.0   \n",
       "1             0.0              0.0             0.0           0.0   \n",
       "2             0.0              0.0             0.0           0.0   \n",
       "3             0.0              0.0             0.0           0.0   \n",
       "4             0.0              1.0             0.0           0.0   \n",
       "\n",
       "   category_Sci-Fi  category_Sports  category_Travel  language_English  \n",
       "0              0.0              0.0              1.0               1.0  \n",
       "1              1.0              0.0              0.0               1.0  \n",
       "2              0.0              0.0              0.0               1.0  \n",
       "3              0.0              0.0              0.0               1.0  \n",
       "4              0.0              0.0              0.0               1.0  \n",
       "\n",
       "[5 rows x 45 columns]"
      ]
     },
     "execution_count": 28,
     "metadata": {},
     "output_type": "execute_result"
    }
   ],
   "source": [
    "# for categoricals\n",
    "X_test_cat = X_test.select_dtypes(include = object)\n",
    "\n",
    "encoded_test_cat = encoder.transform(X_test_cat).toarray()\n",
    "onehot_encoded_test = pd.DataFrame(encoded_test_cat, columns=cols)\n",
    "onehot_encoded_test.head()"
   ]
  },
  {
   "cell_type": "code",
   "execution_count": 29,
   "id": "90cf6029",
   "metadata": {},
   "outputs": [],
   "source": [
    "X_test_transformed = pd.concat([X_test_norm, onehot_encoded_test], axis=1)"
   ]
  },
  {
   "cell_type": "code",
   "execution_count": 30,
   "id": "6d11085a",
   "metadata": {
    "scrolled": true
   },
   "outputs": [
    {
     "data": {
      "text/plain": [
       "0.715"
      ]
     },
     "execution_count": 30,
     "metadata": {},
     "output_type": "execute_result"
    }
   ],
   "source": [
    "# Now we can make predictions on the test set:\n",
    "predictions = LogReg.predict(X_test_transformed)\n",
    "LogReg.score(X_test_transformed, y_test)"
   ]
  },
  {
   "cell_type": "code",
   "execution_count": 31,
   "id": "80804455",
   "metadata": {},
   "outputs": [
    {
     "name": "stdout",
     "output_type": "stream",
     "text": [
      "1    148\n",
      "0     52\n",
      "Name: target_col, dtype: int64\n"
     ]
    }
   ],
   "source": [
    "print(y_test.value_counts())\n",
    "# As you would notice here, there is a huge imbalance in the data among the different classes. \n",
    "# We will talk more about imbalance and how to resolve it later (tomorrow)\n"
   ]
  },
  {
   "cell_type": "code",
   "execution_count": 32,
   "id": "928cd1ad",
   "metadata": {},
   "outputs": [
    {
     "data": {
      "text/plain": [
       "1    175\n",
       "0     25\n",
       "dtype: int64"
      ]
     },
     "execution_count": 32,
     "metadata": {},
     "output_type": "execute_result"
    }
   ],
   "source": [
    "pd.Series(predictions).value_counts()\n",
    "# This shows that the disparity in the numbers are amplified by the model"
   ]
  },
  {
   "cell_type": "code",
   "execution_count": 33,
   "id": "a030d096",
   "metadata": {},
   "outputs": [
    {
     "data": {
      "text/plain": [
       "array([[ 10,  42],\n",
       "       [ 15, 133]], dtype=int64)"
      ]
     },
     "execution_count": 33,
     "metadata": {},
     "output_type": "execute_result"
    }
   ],
   "source": [
    "from sklearn.metrics import confusion_matrix\n",
    "confusion_matrix(y_test, predictions)"
   ]
  },
  {
   "cell_type": "code",
   "execution_count": 34,
   "id": "eaab549e",
   "metadata": {},
   "outputs": [
    {
     "data": {
      "text/plain": [
       "0.65"
      ]
     },
     "execution_count": 34,
     "metadata": {},
     "output_type": "execute_result"
    }
   ],
   "source": [
    "# bonus: KNN classifier: look at nearest neighbours and use the majority to determine class\n",
    "from sklearn import neighbors\n",
    "clf = neighbors.KNeighborsClassifier(n_neighbors=5, weights='uniform')\n",
    "clf.fit(X_train_transformed, y_train)\n",
    "predictions_clf = clf.predict(X_test_transformed)\n",
    "clf.score(X_test_transformed, y_test)"
   ]
  },
  {
   "cell_type": "code",
   "execution_count": 35,
   "id": "0dba0e76",
   "metadata": {},
   "outputs": [
    {
     "data": {
      "text/plain": [
       "array([[ 13,  39],\n",
       "       [ 31, 117]], dtype=int64)"
      ]
     },
     "execution_count": 35,
     "metadata": {},
     "output_type": "execute_result"
    }
   ],
   "source": [
    "confusion_matrix(y_test, predictions_clf)"
   ]
  },
  {
   "cell_type": "markdown",
   "id": "7aba5416",
   "metadata": {},
   "source": [
    "#### we drop-undrop various values, but result is still not good.\n",
    "#### we can predict we it will NOT be rented but we are unsuccesful about it would be rented"
   ]
  },
  {
   "cell_type": "code",
   "execution_count": null,
   "id": "6cd7d95a",
   "metadata": {},
   "outputs": [],
   "source": []
  }
 ],
 "metadata": {
  "kernelspec": {
   "display_name": "Python 3 (ipykernel)",
   "language": "python",
   "name": "python3"
  },
  "language_info": {
   "codemirror_mode": {
    "name": "ipython",
    "version": 3
   },
   "file_extension": ".py",
   "mimetype": "text/x-python",
   "name": "python",
   "nbconvert_exporter": "python",
   "pygments_lexer": "ipython3",
   "version": "3.9.12"
  }
 },
 "nbformat": 4,
 "nbformat_minor": 5
}
